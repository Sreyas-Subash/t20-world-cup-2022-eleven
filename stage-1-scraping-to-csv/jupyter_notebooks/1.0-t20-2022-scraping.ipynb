{
 "cells": [
  {
   "cell_type": "code",
   "execution_count": 1,
   "id": "7e39048f-e8c3-4009-a2b2-26864338fd9e",
   "metadata": {},
   "outputs": [],
   "source": [
    "import os\n",
    "import requests\n",
    "from bs4 import BeautifulSoup\n",
    "import pandas as pd\n",
    "import time\n",
    "from tqdm import tqdm\n",
    "\n",
    "from selenium.webdriver import Chrome\n",
    "from selenium.webdriver.chrome.options import Options\n",
    "from selenium.webdriver.common.by import By\n",
    "from selenium.webdriver.support.wait import WebDriverWait\n",
    "from selenium.webdriver.support import expected_conditions as EC\n",
    "\n",
    "\n",
    "os.environ['PATH'] += r'C:\\Users\\LENOVO\\AppData\\Local\\selenium\\chromedriver-win64'\n",
    "\n",
    "options = Options()\n",
    "# options.add_experimental_option(\"detach\", True)\n",
    "options.add_argument(\"--headless=new\")\n"
   ]
  },
  {
   "cell_type": "markdown",
   "id": "1622c7c6-ca10-4e35-b4fa-36cf43bca2c6",
   "metadata": {},
   "source": [
    "**match summary scraping to csv**"
   ]
  },
  {
   "cell_type": "code",
   "execution_count": 2,
   "id": "7f9021d4-3907-4a1e-b180-a80923e0cdea",
   "metadata": {},
   "outputs": [],
   "source": [
    "headers = {\n",
    "    'User-Agent': 'Mozilla/5.0 (Windows NT 10.0; Win64; x64) AppleWebKit/537.36 (KHTML, like Gecko) Chrome/115.0.0.0 Safari/537.36',\n",
    "    \"Content-Type\": \"application/x-www-form-urlencoded\"}\n",
    "try:\n",
    "    html_text = requests.get('https://www.espncricinfo.com/records/tournament/team-match-results/icc-men-s-t20-world-cup-2022-23-14450',headers=headers)\n",
    "    html_text.raise_for_status()\n",
    "except Exception as e:\n",
    "    print(e)\n",
    "    print('url not found')\n",
    "soup = BeautifulSoup(html_text.text, 'lxml')"
   ]
  },
  {
   "cell_type": "code",
   "execution_count": 3,
   "id": "4d161906-3aea-4d1a-8087-2b20e7d85296",
   "metadata": {},
   "outputs": [],
   "source": [
    "full_data = soup.find('tbody').find_all('tr')"
   ]
  },
  {
   "cell_type": "code",
   "execution_count": 4,
   "id": "6ad2edf6-9f20-41d5-905b-fd454544d7a6",
   "metadata": {},
   "outputs": [],
   "source": [
    "full_list = []\n",
    "match_id_link = {}\n",
    "for rows in full_data:\n",
    "    each_dict = {}\n",
    "    each_value = rows.find_all('td')\n",
    "\n",
    "    \n",
    "    each_dict['team1'] = each_value[0].text.strip()\n",
    "    each_dict['team2'] = each_value[1].text.strip()\n",
    "    each_dict['winner'] = each_value[2].text.strip()\n",
    "    each_dict['margin'] = each_value[3].text.strip()\n",
    "    each_dict['ground'] = each_value[4].text.strip()\n",
    "    each_dict['match_date'] = each_value[5].text.strip()\n",
    "    each_dict['match_id'] = each_value[6].text.strip()\n",
    "\n",
    "    espn = 'https://www.espncricinfo.com'\n",
    "\n",
    "    match_id_link[each_value[6].text.strip()] = [espn + each_value[6].a['href'], each_dict['team1'] + ' Vs ' +  each_dict['team2']]\n",
    "\n",
    "    full_list.append(each_dict)\n"
   ]
  },
  {
   "cell_type": "code",
   "execution_count": 5,
   "id": "ac591780-1396-45c2-9283-78502b836873",
   "metadata": {
    "scrolled": true
   },
   "outputs": [
    {
     "data": {
      "text/plain": [
       "{'T20I # 1823': ['https://www.espncricinfo.com/series/icc-men-s-t20-world-cup-2022-23-1298134/namibia-vs-sri-lanka-1st-match-first-round-group-a-1298135/full-scorecard',\n",
       "  'Namibia Vs Sri Lanka'],\n",
       " 'T20I # 1825': ['https://www.espncricinfo.com/series/icc-men-s-t20-world-cup-2022-23-1298134/netherlands-vs-united-arab-emirates-2nd-match-first-round-group-a-1298136/full-scorecard',\n",
       "  'Netherlands Vs U.A.E.'],\n",
       " 'T20I # 1826': ['https://www.espncricinfo.com/series/icc-men-s-t20-world-cup-2022-23-1298134/scotland-vs-west-indies-3rd-match-first-round-group-b-1298137/full-scorecard',\n",
       "  'Scotland Vs West Indies'],\n",
       " 'T20I # 1828': ['https://www.espncricinfo.com/series/icc-men-s-t20-world-cup-2022-23-1298134/ireland-vs-zimbabwe-4th-match-first-round-group-b-1298138/full-scorecard',\n",
       "  'Ireland Vs Zimbabwe'],\n",
       " 'T20I # 1830': ['https://www.espncricinfo.com/series/icc-men-s-t20-world-cup-2022-23-1298134/namibia-vs-netherlands-5th-match-first-round-group-a-1298139/full-scorecard',\n",
       "  'Namibia Vs Netherlands'],\n",
       " 'T20I # 1832': ['https://www.espncricinfo.com/series/icc-men-s-t20-world-cup-2022-23-1298134/sri-lanka-vs-united-arab-emirates-6th-match-first-round-group-a-1298140/full-scorecard',\n",
       "  'Sri Lanka Vs U.A.E.'],\n",
       " 'T20I # 1833': ['https://www.espncricinfo.com/series/icc-men-s-t20-world-cup-2022-23-1298134/ireland-vs-scotland-7th-match-first-round-group-b-1298141/full-scorecard',\n",
       "  'Ireland Vs Scotland'],\n",
       " 'T20I # 1834': ['https://www.espncricinfo.com/series/icc-men-s-t20-world-cup-2022-23-1298134/west-indies-vs-zimbabwe-8th-match-first-round-group-b-1298142/full-scorecard',\n",
       "  'West Indies Vs Zimbabwe'],\n",
       " 'T20I # 1835': ['https://www.espncricinfo.com/series/icc-men-s-t20-world-cup-2022-23-1298134/netherlands-vs-sri-lanka-9th-match-first-round-group-a-1298143/full-scorecard',\n",
       "  'Netherlands Vs Sri Lanka'],\n",
       " 'T20I # 1836': ['https://www.espncricinfo.com/series/icc-men-s-t20-world-cup-2022-23-1298134/namibia-vs-united-arab-emirates-10th-match-first-round-group-a-1298144/full-scorecard',\n",
       "  'Namibia Vs U.A.E.'],\n",
       " 'T20I # 1837': ['https://www.espncricinfo.com/series/icc-men-s-t20-world-cup-2022-23-1298134/ireland-vs-west-indies-11th-match-first-round-group-b-1298145/full-scorecard',\n",
       "  'Ireland Vs West Indies'],\n",
       " 'T20I # 1838': ['https://www.espncricinfo.com/series/icc-men-s-t20-world-cup-2022-23-1298134/scotland-vs-zimbabwe-12th-match-first-round-group-b-1298146/full-scorecard',\n",
       "  'Scotland Vs Zimbabwe'],\n",
       " 'T20I # 1839': ['https://www.espncricinfo.com/series/icc-men-s-t20-world-cup-2022-23-1298134/australia-vs-new-zealand-13th-match-group-1-1298147/full-scorecard',\n",
       "  'Australia Vs New Zealand'],\n",
       " 'T20I # 1840': ['https://www.espncricinfo.com/series/icc-men-s-t20-world-cup-2022-23-1298134/afghanistan-vs-england-14th-match-group-1-1298148/full-scorecard',\n",
       "  'Afghanistan Vs England'],\n",
       " 'T20I # 1841': ['https://www.espncricinfo.com/series/icc-men-s-t20-world-cup-2022-23-1298134/ireland-vs-sri-lanka-15th-match-group-1-1298149/full-scorecard',\n",
       "  'Ireland Vs Sri Lanka'],\n",
       " 'T20I # 1842': ['https://www.espncricinfo.com/series/icc-men-s-t20-world-cup-2022-23-1298134/india-vs-pakistan-16th-match-group-2-1298150/full-scorecard',\n",
       "  'India Vs Pakistan'],\n",
       " 'T20I # 1843': ['https://www.espncricinfo.com/series/icc-men-s-t20-world-cup-2022-23-1298134/bangladesh-vs-netherlands-17th-match-group-2-1298151/full-scorecard',\n",
       "  'Bangladesh Vs Netherlands'],\n",
       " 'T20I # 1844': ['https://www.espncricinfo.com/series/icc-men-s-t20-world-cup-2022-23-1298134/south-africa-vs-zimbabwe-18th-match-group-2-1298152/full-scorecard',\n",
       "  'South Africa Vs Zimbabwe'],\n",
       " 'T20I # 1845': ['https://www.espncricinfo.com/series/icc-men-s-t20-world-cup-2022-23-1298134/australia-vs-sri-lanka-19th-match-group-1-1298153/full-scorecard',\n",
       "  'Australia Vs Sri Lanka'],\n",
       " 'T20I # 1846': ['https://www.espncricinfo.com/series/icc-men-s-t20-world-cup-2022-23-1298134/england-vs-ireland-20th-match-group-1-1298154/full-scorecard',\n",
       "  'England Vs Ireland'],\n",
       " 'T20I # 1847': ['https://www.espncricinfo.com/series/icc-men-s-t20-world-cup-2022-23-1298134/bangladesh-vs-south-africa-22nd-match-group-2-1298156/full-scorecard',\n",
       "  'Bangladesh Vs South Africa'],\n",
       " 'T20I # 1848': ['https://www.espncricinfo.com/series/icc-men-s-t20-world-cup-2022-23-1298134/india-vs-netherlands-23rd-match-group-2-1298157/full-scorecard',\n",
       "  'India Vs Netherlands'],\n",
       " 'T20I # 1849': ['https://www.espncricinfo.com/series/icc-men-s-t20-world-cup-2022-23-1298134/pakistan-vs-zimbabwe-24th-match-group-2-1298158/full-scorecard',\n",
       "  'Pakistan Vs Zimbabwe'],\n",
       " 'T20I # 1850': ['https://www.espncricinfo.com/series/icc-men-s-t20-world-cup-2022-23-1298134/new-zealand-vs-sri-lanka-27th-match-group-1-1298161/full-scorecard',\n",
       "  'New Zealand Vs Sri Lanka'],\n",
       " 'T20I # 1851': ['https://www.espncricinfo.com/series/icc-men-s-t20-world-cup-2022-23-1298134/bangladesh-vs-zimbabwe-28th-match-group-2-1298162/full-scorecard',\n",
       "  'Bangladesh Vs Zimbabwe'],\n",
       " 'T20I # 1852': ['https://www.espncricinfo.com/series/icc-men-s-t20-world-cup-2022-23-1298134/netherlands-vs-pakistan-29th-match-group-2-1298163/full-scorecard',\n",
       "  'Netherlands Vs Pakistan'],\n",
       " 'T20I # 1853': ['https://www.espncricinfo.com/series/icc-men-s-t20-world-cup-2022-23-1298134/india-vs-south-africa-30th-match-group-2-1298164/full-scorecard',\n",
       "  'India Vs South Africa'],\n",
       " 'T20I # 1855': ['https://www.espncricinfo.com/series/icc-men-s-t20-world-cup-2022-23-1298134/australia-vs-ireland-31st-match-group-1-1298165/full-scorecard',\n",
       "  'Australia Vs Ireland'],\n",
       " 'T20I # 1856': ['https://www.espncricinfo.com/series/icc-men-s-t20-world-cup-2022-23-1298134/afghanistan-vs-sri-lanka-32nd-match-group-1-1298166/full-scorecard',\n",
       "  'Afghanistan Vs Sri Lanka'],\n",
       " 'T20I # 1858': ['https://www.espncricinfo.com/series/icc-men-s-t20-world-cup-2022-23-1298134/england-vs-new-zealand-33rd-match-group-1-1298167/full-scorecard',\n",
       "  'England Vs New Zealand'],\n",
       " 'T20I # 1859': ['https://www.espncricinfo.com/series/icc-men-s-t20-world-cup-2022-23-1298134/netherlands-vs-zimbabwe-34th-match-group-2-1298168/full-scorecard',\n",
       "  'Netherlands Vs Zimbabwe'],\n",
       " 'T20I # 1860': ['https://www.espncricinfo.com/series/icc-men-s-t20-world-cup-2022-23-1298134/bangladesh-vs-india-35th-match-group-2-1298169/full-scorecard',\n",
       "  'Bangladesh Vs India'],\n",
       " 'T20I # 1861': ['https://www.espncricinfo.com/series/icc-men-s-t20-world-cup-2022-23-1298134/pakistan-vs-south-africa-36th-match-group-2-1298170/full-scorecard',\n",
       "  'Pakistan Vs South Africa'],\n",
       " 'T20I # 1862': ['https://www.espncricinfo.com/series/icc-men-s-t20-world-cup-2022-23-1298134/ireland-vs-new-zealand-37th-match-group-1-1298171/full-scorecard',\n",
       "  'Ireland Vs New Zealand'],\n",
       " 'T20I # 1864': ['https://www.espncricinfo.com/series/icc-men-s-t20-world-cup-2022-23-1298134/australia-vs-afghanistan-38th-match-group-1-1298172/full-scorecard',\n",
       "  'Australia Vs Afghanistan'],\n",
       " 'T20I # 1867': ['https://www.espncricinfo.com/series/icc-men-s-t20-world-cup-2022-23-1298134/england-vs-sri-lanka-39th-match-group-1-1298173/full-scorecard',\n",
       "  'England Vs Sri Lanka'],\n",
       " 'T20I # 1871': ['https://www.espncricinfo.com/series/icc-men-s-t20-world-cup-2022-23-1298134/netherlands-vs-south-africa-40th-match-group-2-1298174/full-scorecard',\n",
       "  'Netherlands Vs South Africa'],\n",
       " 'T20I # 1872': ['https://www.espncricinfo.com/series/icc-men-s-t20-world-cup-2022-23-1298134/bangladesh-vs-pakistan-41st-match-group-2-1298175/full-scorecard',\n",
       "  'Bangladesh Vs Pakistan'],\n",
       " 'T20I # 1873': ['https://www.espncricinfo.com/series/icc-men-s-t20-world-cup-2022-23-1298134/india-vs-zimbabwe-42nd-match-group-2-1298176/full-scorecard',\n",
       "  'India Vs Zimbabwe'],\n",
       " 'T20I # 1877': ['https://www.espncricinfo.com/series/icc-men-s-t20-world-cup-2022-23-1298134/new-zealand-vs-pakistan-1st-semi-final-1298177/full-scorecard',\n",
       "  'New Zealand Vs Pakistan'],\n",
       " 'T20I # 1878': ['https://www.espncricinfo.com/series/icc-men-s-t20-world-cup-2022-23-1298134/england-vs-india-2nd-semi-final-1298178/full-scorecard',\n",
       "  'England Vs India'],\n",
       " 'T20I # 1879': ['https://www.espncricinfo.com/series/icc-men-s-t20-world-cup-2022-23-1298134/england-vs-pakistan-final-1298179/full-scorecard',\n",
       "  'England Vs Pakistan']}"
      ]
     },
     "execution_count": 5,
     "metadata": {},
     "output_type": "execute_result"
    }
   ],
   "source": [
    "# match_id_link"
   ]
  },
  {
   "cell_type": "code",
   "execution_count": 6,
   "id": "543ecb03-adb0-4b75-8358-dd88cb60a02c",
   "metadata": {},
   "outputs": [
    {
     "data": {
      "text/html": [
       "<div>\n",
       "<style scoped>\n",
       "    .dataframe tbody tr th:only-of-type {\n",
       "        vertical-align: middle;\n",
       "    }\n",
       "\n",
       "    .dataframe tbody tr th {\n",
       "        vertical-align: top;\n",
       "    }\n",
       "\n",
       "    .dataframe thead th {\n",
       "        text-align: right;\n",
       "    }\n",
       "</style>\n",
       "<table border=\"1\" class=\"dataframe\">\n",
       "  <thead>\n",
       "    <tr style=\"text-align: right;\">\n",
       "      <th></th>\n",
       "      <th>team1</th>\n",
       "      <th>team2</th>\n",
       "      <th>winner</th>\n",
       "      <th>margin</th>\n",
       "      <th>ground</th>\n",
       "      <th>match_date</th>\n",
       "      <th>match_id</th>\n",
       "    </tr>\n",
       "  </thead>\n",
       "  <tbody>\n",
       "    <tr>\n",
       "      <th>0</th>\n",
       "      <td>Namibia</td>\n",
       "      <td>Sri Lanka</td>\n",
       "      <td>Namibia</td>\n",
       "      <td>55 runs</td>\n",
       "      <td>Geelong</td>\n",
       "      <td>Oct 16, 2022</td>\n",
       "      <td>T20I # 1823</td>\n",
       "    </tr>\n",
       "    <tr>\n",
       "      <th>1</th>\n",
       "      <td>Netherlands</td>\n",
       "      <td>U.A.E.</td>\n",
       "      <td>Netherlands</td>\n",
       "      <td>3 wickets</td>\n",
       "      <td>Geelong</td>\n",
       "      <td>Oct 16, 2022</td>\n",
       "      <td>T20I # 1825</td>\n",
       "    </tr>\n",
       "    <tr>\n",
       "      <th>2</th>\n",
       "      <td>Scotland</td>\n",
       "      <td>West Indies</td>\n",
       "      <td>Scotland</td>\n",
       "      <td>42 runs</td>\n",
       "      <td>Hobart</td>\n",
       "      <td>Oct 17, 2022</td>\n",
       "      <td>T20I # 1826</td>\n",
       "    </tr>\n",
       "    <tr>\n",
       "      <th>3</th>\n",
       "      <td>Ireland</td>\n",
       "      <td>Zimbabwe</td>\n",
       "      <td>Zimbabwe</td>\n",
       "      <td>31 runs</td>\n",
       "      <td>Hobart</td>\n",
       "      <td>Oct 17, 2022</td>\n",
       "      <td>T20I # 1828</td>\n",
       "    </tr>\n",
       "    <tr>\n",
       "      <th>4</th>\n",
       "      <td>Namibia</td>\n",
       "      <td>Netherlands</td>\n",
       "      <td>Netherlands</td>\n",
       "      <td>5 wickets</td>\n",
       "      <td>Geelong</td>\n",
       "      <td>Oct 18, 2022</td>\n",
       "      <td>T20I # 1830</td>\n",
       "    </tr>\n",
       "  </tbody>\n",
       "</table>\n",
       "</div>"
      ],
      "text/plain": [
       "         team1        team2       winner     margin   ground    match_date   \n",
       "0      Namibia    Sri Lanka      Namibia    55 runs  Geelong  Oct 16, 2022  \\\n",
       "1  Netherlands       U.A.E.  Netherlands  3 wickets  Geelong  Oct 16, 2022   \n",
       "2     Scotland  West Indies     Scotland    42 runs   Hobart  Oct 17, 2022   \n",
       "3      Ireland     Zimbabwe     Zimbabwe    31 runs   Hobart  Oct 17, 2022   \n",
       "4      Namibia  Netherlands  Netherlands  5 wickets  Geelong  Oct 18, 2022   \n",
       "\n",
       "      match_id  \n",
       "0  T20I # 1823  \n",
       "1  T20I # 1825  \n",
       "2  T20I # 1826  \n",
       "3  T20I # 1828  \n",
       "4  T20I # 1830  "
      ]
     },
     "execution_count": 6,
     "metadata": {},
     "output_type": "execute_result"
    }
   ],
   "source": [
    "match_summary_df = pd.DataFrame(full_list)\n",
    "match_summary_df.head()"
   ]
  },
  {
   "cell_type": "code",
   "execution_count": 7,
   "id": "d3520724-5ab9-4189-90b1-6851de1415d1",
   "metadata": {},
   "outputs": [],
   "source": [
    "# match_summary_df.to_csv('match_summary.csv', index=False)"
   ]
  },
  {
   "cell_type": "markdown",
   "id": "5685fbc3-71c0-4906-aa60-d80a50e3b2a2",
   "metadata": {},
   "source": [
    "**batting and bowling data scraping**"
   ]
  },
  {
   "cell_type": "code",
   "execution_count": 8,
   "id": "4ac6edb6-1159-4cea-9414-555f9e53cec8",
   "metadata": {},
   "outputs": [],
   "source": [
    "batting_list = []\n",
    "bowling_list = []\n",
    "for id in match_id_link:\n",
    "    \n",
    "    match_id = id\n",
    "    match_url = match_id_link[id][0]\n",
    "    # match_url = match_id_link['T20I # 1823'][0]\n",
    "    \n",
    "    match_html_text = requests.get(match_url,headers=headers).text\n",
    "    match_soup = BeautifulSoup(match_html_text, 'lxml')\n",
    "    \n",
    "    innings_soup = match_soup.find_all('div', class_=\"ds-rounded-lg ds-mt-2\")\n",
    "\n",
    "    for innings in innings_soup:\n",
    "        # batting scraping\n",
    "        batting_position = 0\n",
    "        batting_team = innings.find('span', class_=\"ds-text-title-xs ds-font-bold ds-text-typo\").text\n",
    "        \n",
    "        batting_soup = innings.find('table', class_=\"ds-w-full ds-table ds-table-md ds-table-auto ci-scorecard-table\").find('tbody')\n",
    "        each_row = batting_soup.find_all('tr', class_=\"\")\n",
    "\n",
    "        for rows in each_row:\n",
    "            batting_position = batting_position + 1\n",
    "            each_value = rows.find_all('td')\n",
    "            \n",
    "            if (each_value[0].name == 'td') and (each_value[0].text == 'TOTAL'):\n",
    "                break\n",
    "            batting_dict = {}\n",
    "            \n",
    "            # batting columns\n",
    "            batting_dict['match_id'] = match_id\n",
    "            batting_dict['match'] = match_id_link[id][1]\n",
    "            batting_dict['batting_team'] = batting_team.split('(')[0].strip()\n",
    "            batting_dict['batting_position'] = batting_position\n",
    "            batting_dict['batsman'] = each_value[0].text.split('\\xa0')[0].strip()\n",
    "            batting_dict['out/not_out'] = each_value[1].text.strip()\n",
    "            batting_dict['runs'] = each_value[2].text.strip()\n",
    "            batting_dict['balls'] = each_value[3].text.strip()\n",
    "            batting_dict['4s'] = each_value[5].text.strip()\n",
    "            batting_dict['6s'] = each_value[6].text.strip()\n",
    "            batting_dict['strike_rate'] = each_value[7].text.strip()\n",
    "\n",
    "            batting_list.append(batting_dict)\n",
    "\n",
    "        # bowling scraping\n",
    "        bowling_team_without_vs = batting_dict['match'].replace('Vs','')\n",
    "        bowling_team = bowling_team_without_vs.replace(batting_dict['batting_team'],'')\n",
    "\n",
    "        bowling_soup = innings.find('table', class_=\"ds-w-full ds-table ds-table-md ds-table-auto\").find('tbody')\n",
    "        b_each_row = bowling_soup.find_all('tr', class_=\"\")\n",
    "\n",
    "        for b_row in b_each_row:\n",
    "            b_each_value = b_row.find_all('td')\n",
    "            bowling_dict = {}\n",
    "\n",
    "            bowling_dict['match_id'] = match_id\n",
    "            bowling_dict['match'] = match_id_link[id][1]\n",
    "            bowling_dict['bowling_team'] = bowling_team.strip() \n",
    "            bowling_dict['bowler'] = b_each_value[0].text.strip()\n",
    "            bowling_dict['overs'] = b_each_value[1].text.strip()\n",
    "            bowling_dict['maidens'] = b_each_value[2].text.strip()\n",
    "            bowling_dict['runs'] = b_each_value[3].text.strip()\n",
    "            bowling_dict['wicket'] = b_each_value[4].text.strip()\n",
    "            bowling_dict['economy'] = b_each_value[5].text.strip()\n",
    "            bowling_dict['0s'] = b_each_value[6].text.strip()\n",
    "            bowling_dict['4s'] = b_each_value[7].text.strip()\n",
    "            bowling_dict['6s'] = b_each_value[8].text.strip()\n",
    "            bowling_dict['wide'] = b_each_value[9].text.strip()\n",
    "            bowling_dict['no_ball'] = b_each_value[10].text.strip()\n",
    "\n",
    "            bowling_list.append(bowling_dict)\n",
    "            \n",
    "    \n",
    "        \n"
   ]
  },
  {
   "cell_type": "code",
   "execution_count": 9,
   "id": "3225db7c-f413-4d69-a9c9-d087e37fa6fb",
   "metadata": {},
   "outputs": [
    {
     "data": {
      "text/html": [
       "<div>\n",
       "<style scoped>\n",
       "    .dataframe tbody tr th:only-of-type {\n",
       "        vertical-align: middle;\n",
       "    }\n",
       "\n",
       "    .dataframe tbody tr th {\n",
       "        vertical-align: top;\n",
       "    }\n",
       "\n",
       "    .dataframe thead th {\n",
       "        text-align: right;\n",
       "    }\n",
       "</style>\n",
       "<table border=\"1\" class=\"dataframe\">\n",
       "  <thead>\n",
       "    <tr style=\"text-align: right;\">\n",
       "      <th></th>\n",
       "      <th>match_id</th>\n",
       "      <th>match</th>\n",
       "      <th>batting_team</th>\n",
       "      <th>batting_position</th>\n",
       "      <th>batsman</th>\n",
       "      <th>out/not_out</th>\n",
       "      <th>runs</th>\n",
       "      <th>balls</th>\n",
       "      <th>4s</th>\n",
       "      <th>6s</th>\n",
       "      <th>strike_rate</th>\n",
       "    </tr>\n",
       "  </thead>\n",
       "  <tbody>\n",
       "    <tr>\n",
       "      <th>694</th>\n",
       "      <td>T20I # 1879</td>\n",
       "      <td>England Vs Pakistan</td>\n",
       "      <td>England</td>\n",
       "      <td>3</td>\n",
       "      <td>Phil Salt</td>\n",
       "      <td>c Iftikhar Ahmed b Haris Rauf</td>\n",
       "      <td>10</td>\n",
       "      <td>9</td>\n",
       "      <td>2</td>\n",
       "      <td>0</td>\n",
       "      <td>111.11</td>\n",
       "    </tr>\n",
       "    <tr>\n",
       "      <th>695</th>\n",
       "      <td>T20I # 1879</td>\n",
       "      <td>England Vs Pakistan</td>\n",
       "      <td>England</td>\n",
       "      <td>4</td>\n",
       "      <td>Ben Stokes</td>\n",
       "      <td>not out</td>\n",
       "      <td>52</td>\n",
       "      <td>49</td>\n",
       "      <td>5</td>\n",
       "      <td>1</td>\n",
       "      <td>106.12</td>\n",
       "    </tr>\n",
       "    <tr>\n",
       "      <th>696</th>\n",
       "      <td>T20I # 1879</td>\n",
       "      <td>England Vs Pakistan</td>\n",
       "      <td>England</td>\n",
       "      <td>5</td>\n",
       "      <td>Harry Brook</td>\n",
       "      <td>c Shaheen Shah Afridi b Shadab Khan</td>\n",
       "      <td>20</td>\n",
       "      <td>23</td>\n",
       "      <td>1</td>\n",
       "      <td>0</td>\n",
       "      <td>86.95</td>\n",
       "    </tr>\n",
       "    <tr>\n",
       "      <th>697</th>\n",
       "      <td>T20I # 1879</td>\n",
       "      <td>England Vs Pakistan</td>\n",
       "      <td>England</td>\n",
       "      <td>6</td>\n",
       "      <td>Moeen Ali</td>\n",
       "      <td>b Mohammad Wasim</td>\n",
       "      <td>19</td>\n",
       "      <td>13</td>\n",
       "      <td>3</td>\n",
       "      <td>0</td>\n",
       "      <td>146.15</td>\n",
       "    </tr>\n",
       "    <tr>\n",
       "      <th>698</th>\n",
       "      <td>T20I # 1879</td>\n",
       "      <td>England Vs Pakistan</td>\n",
       "      <td>England</td>\n",
       "      <td>7</td>\n",
       "      <td>Liam Livingstone</td>\n",
       "      <td>not out</td>\n",
       "      <td>1</td>\n",
       "      <td>1</td>\n",
       "      <td>0</td>\n",
       "      <td>0</td>\n",
       "      <td>100.00</td>\n",
       "    </tr>\n",
       "  </tbody>\n",
       "</table>\n",
       "</div>"
      ],
      "text/plain": [
       "        match_id                match batting_team  batting_position   \n",
       "694  T20I # 1879  England Vs Pakistan      England                 3  \\\n",
       "695  T20I # 1879  England Vs Pakistan      England                 4   \n",
       "696  T20I # 1879  England Vs Pakistan      England                 5   \n",
       "697  T20I # 1879  England Vs Pakistan      England                 6   \n",
       "698  T20I # 1879  England Vs Pakistan      England                 7   \n",
       "\n",
       "              batsman                          out/not_out runs balls 4s 6s   \n",
       "694         Phil Salt        c Iftikhar Ahmed b Haris Rauf   10     9  2  0  \\\n",
       "695        Ben Stokes                              not out   52    49  5  1   \n",
       "696       Harry Brook  c Shaheen Shah Afridi b Shadab Khan   20    23  1  0   \n",
       "697         Moeen Ali                     b Mohammad Wasim   19    13  3  0   \n",
       "698  Liam Livingstone                              not out    1     1  0  0   \n",
       "\n",
       "    strike_rate  \n",
       "694      111.11  \n",
       "695      106.12  \n",
       "696       86.95  \n",
       "697      146.15  \n",
       "698      100.00  "
      ]
     },
     "execution_count": 9,
     "metadata": {},
     "output_type": "execute_result"
    }
   ],
   "source": [
    "batting_df = pd.DataFrame(batting_list)\n",
    "batting_df.tail()"
   ]
  },
  {
   "cell_type": "code",
   "execution_count": 10,
   "id": "b4cb88ac-16e0-4ec3-a1ab-4de594943621",
   "metadata": {},
   "outputs": [],
   "source": [
    "# batting_df.to_csv('batting_data.csv', index=False)"
   ]
  },
  {
   "cell_type": "code",
   "execution_count": 11,
   "id": "13611424-a5cc-43aa-b45d-473324631893",
   "metadata": {},
   "outputs": [
    {
     "data": {
      "text/html": [
       "<div>\n",
       "<style scoped>\n",
       "    .dataframe tbody tr th:only-of-type {\n",
       "        vertical-align: middle;\n",
       "    }\n",
       "\n",
       "    .dataframe tbody tr th {\n",
       "        vertical-align: top;\n",
       "    }\n",
       "\n",
       "    .dataframe thead th {\n",
       "        text-align: right;\n",
       "    }\n",
       "</style>\n",
       "<table border=\"1\" class=\"dataframe\">\n",
       "  <thead>\n",
       "    <tr style=\"text-align: right;\">\n",
       "      <th></th>\n",
       "      <th>match_id</th>\n",
       "      <th>match</th>\n",
       "      <th>bowling_team</th>\n",
       "      <th>bowler</th>\n",
       "      <th>overs</th>\n",
       "      <th>maidens</th>\n",
       "      <th>runs</th>\n",
       "      <th>wicket</th>\n",
       "      <th>economy</th>\n",
       "      <th>0s</th>\n",
       "      <th>4s</th>\n",
       "      <th>6s</th>\n",
       "      <th>wide</th>\n",
       "      <th>no_ball</th>\n",
       "    </tr>\n",
       "  </thead>\n",
       "  <tbody>\n",
       "    <tr>\n",
       "      <th>490</th>\n",
       "      <td>T20I # 1879</td>\n",
       "      <td>England Vs Pakistan</td>\n",
       "      <td>England</td>\n",
       "      <td>Sam Curran</td>\n",
       "      <td>4</td>\n",
       "      <td>0</td>\n",
       "      <td>12</td>\n",
       "      <td>3</td>\n",
       "      <td>3.00</td>\n",
       "      <td>15</td>\n",
       "      <td>0</td>\n",
       "      <td>0</td>\n",
       "      <td>0</td>\n",
       "      <td>0</td>\n",
       "    </tr>\n",
       "    <tr>\n",
       "      <th>491</th>\n",
       "      <td>T20I # 1879</td>\n",
       "      <td>England Vs Pakistan</td>\n",
       "      <td>England</td>\n",
       "      <td>Adil Rashid</td>\n",
       "      <td>4</td>\n",
       "      <td>1</td>\n",
       "      <td>22</td>\n",
       "      <td>2</td>\n",
       "      <td>5.50</td>\n",
       "      <td>10</td>\n",
       "      <td>1</td>\n",
       "      <td>0</td>\n",
       "      <td>1</td>\n",
       "      <td>0</td>\n",
       "    </tr>\n",
       "    <tr>\n",
       "      <th>492</th>\n",
       "      <td>T20I # 1879</td>\n",
       "      <td>England Vs Pakistan</td>\n",
       "      <td>England</td>\n",
       "      <td>Chris Jordan</td>\n",
       "      <td>4</td>\n",
       "      <td>0</td>\n",
       "      <td>27</td>\n",
       "      <td>2</td>\n",
       "      <td>6.75</td>\n",
       "      <td>9</td>\n",
       "      <td>3</td>\n",
       "      <td>0</td>\n",
       "      <td>0</td>\n",
       "      <td>0</td>\n",
       "    </tr>\n",
       "    <tr>\n",
       "      <th>493</th>\n",
       "      <td>T20I # 1879</td>\n",
       "      <td>England Vs Pakistan</td>\n",
       "      <td>England</td>\n",
       "      <td>Liam Livingstone</td>\n",
       "      <td>1</td>\n",
       "      <td>0</td>\n",
       "      <td>16</td>\n",
       "      <td>0</td>\n",
       "      <td>16.00</td>\n",
       "      <td>1</td>\n",
       "      <td>1</td>\n",
       "      <td>1</td>\n",
       "      <td>1</td>\n",
       "      <td>0</td>\n",
       "    </tr>\n",
       "    <tr>\n",
       "      <th>494</th>\n",
       "      <td>T20I # 1879</td>\n",
       "      <td>England Vs Pakistan</td>\n",
       "      <td>Pakistan</td>\n",
       "      <td>Shaheen Shah Afridi</td>\n",
       "      <td>2.1</td>\n",
       "      <td>0</td>\n",
       "      <td>13</td>\n",
       "      <td>1</td>\n",
       "      <td>6.00</td>\n",
       "      <td>6</td>\n",
       "      <td>1</td>\n",
       "      <td>0</td>\n",
       "      <td>0</td>\n",
       "      <td>0</td>\n",
       "    </tr>\n",
       "    <tr>\n",
       "      <th>495</th>\n",
       "      <td>T20I # 1879</td>\n",
       "      <td>England Vs Pakistan</td>\n",
       "      <td>Pakistan</td>\n",
       "      <td>Naseem Shah</td>\n",
       "      <td>4</td>\n",
       "      <td>0</td>\n",
       "      <td>30</td>\n",
       "      <td>0</td>\n",
       "      <td>7.50</td>\n",
       "      <td>15</td>\n",
       "      <td>3</td>\n",
       "      <td>1</td>\n",
       "      <td>1</td>\n",
       "      <td>0</td>\n",
       "    </tr>\n",
       "    <tr>\n",
       "      <th>496</th>\n",
       "      <td>T20I # 1879</td>\n",
       "      <td>England Vs Pakistan</td>\n",
       "      <td>Pakistan</td>\n",
       "      <td>Haris Rauf</td>\n",
       "      <td>4</td>\n",
       "      <td>0</td>\n",
       "      <td>23</td>\n",
       "      <td>2</td>\n",
       "      <td>5.75</td>\n",
       "      <td>13</td>\n",
       "      <td>3</td>\n",
       "      <td>0</td>\n",
       "      <td>1</td>\n",
       "      <td>0</td>\n",
       "    </tr>\n",
       "    <tr>\n",
       "      <th>497</th>\n",
       "      <td>T20I # 1879</td>\n",
       "      <td>England Vs Pakistan</td>\n",
       "      <td>Pakistan</td>\n",
       "      <td>Shadab Khan</td>\n",
       "      <td>4</td>\n",
       "      <td>0</td>\n",
       "      <td>20</td>\n",
       "      <td>1</td>\n",
       "      <td>5.00</td>\n",
       "      <td>10</td>\n",
       "      <td>1</td>\n",
       "      <td>0</td>\n",
       "      <td>0</td>\n",
       "      <td>0</td>\n",
       "    </tr>\n",
       "    <tr>\n",
       "      <th>498</th>\n",
       "      <td>T20I # 1879</td>\n",
       "      <td>England Vs Pakistan</td>\n",
       "      <td>Pakistan</td>\n",
       "      <td>Mohammad Wasim</td>\n",
       "      <td>4</td>\n",
       "      <td>0</td>\n",
       "      <td>38</td>\n",
       "      <td>1</td>\n",
       "      <td>9.50</td>\n",
       "      <td>5</td>\n",
       "      <td>5</td>\n",
       "      <td>0</td>\n",
       "      <td>2</td>\n",
       "      <td>0</td>\n",
       "    </tr>\n",
       "    <tr>\n",
       "      <th>499</th>\n",
       "      <td>T20I # 1879</td>\n",
       "      <td>England Vs Pakistan</td>\n",
       "      <td>Pakistan</td>\n",
       "      <td>Iftikhar Ahmed</td>\n",
       "      <td>0.5</td>\n",
       "      <td>0</td>\n",
       "      <td>13</td>\n",
       "      <td>0</td>\n",
       "      <td>15.60</td>\n",
       "      <td>0</td>\n",
       "      <td>1</td>\n",
       "      <td>1</td>\n",
       "      <td>0</td>\n",
       "      <td>0</td>\n",
       "    </tr>\n",
       "  </tbody>\n",
       "</table>\n",
       "</div>"
      ],
      "text/plain": [
       "        match_id                match bowling_team               bowler overs   \n",
       "490  T20I # 1879  England Vs Pakistan      England           Sam Curran     4  \\\n",
       "491  T20I # 1879  England Vs Pakistan      England          Adil Rashid     4   \n",
       "492  T20I # 1879  England Vs Pakistan      England         Chris Jordan     4   \n",
       "493  T20I # 1879  England Vs Pakistan      England     Liam Livingstone     1   \n",
       "494  T20I # 1879  England Vs Pakistan     Pakistan  Shaheen Shah Afridi   2.1   \n",
       "495  T20I # 1879  England Vs Pakistan     Pakistan          Naseem Shah     4   \n",
       "496  T20I # 1879  England Vs Pakistan     Pakistan           Haris Rauf     4   \n",
       "497  T20I # 1879  England Vs Pakistan     Pakistan          Shadab Khan     4   \n",
       "498  T20I # 1879  England Vs Pakistan     Pakistan       Mohammad Wasim     4   \n",
       "499  T20I # 1879  England Vs Pakistan     Pakistan       Iftikhar Ahmed   0.5   \n",
       "\n",
       "    maidens runs wicket economy  0s 4s 6s wide no_ball  \n",
       "490       0   12      3    3.00  15  0  0    0       0  \n",
       "491       1   22      2    5.50  10  1  0    1       0  \n",
       "492       0   27      2    6.75   9  3  0    0       0  \n",
       "493       0   16      0   16.00   1  1  1    1       0  \n",
       "494       0   13      1    6.00   6  1  0    0       0  \n",
       "495       0   30      0    7.50  15  3  1    1       0  \n",
       "496       0   23      2    5.75  13  3  0    1       0  \n",
       "497       0   20      1    5.00  10  1  0    0       0  \n",
       "498       0   38      1    9.50   5  5  0    2       0  \n",
       "499       0   13      0   15.60   0  1  1    0       0  "
      ]
     },
     "execution_count": 11,
     "metadata": {},
     "output_type": "execute_result"
    }
   ],
   "source": [
    "bowling_df = pd.DataFrame(bowling_list)\n",
    "bowling_df.tail(10)"
   ]
  },
  {
   "cell_type": "code",
   "execution_count": 12,
   "id": "9c26f60e-1848-4513-ac0e-446ae102beed",
   "metadata": {},
   "outputs": [],
   "source": [
    "# bowling_df.to_csv('bowling_data.csv', index=False)"
   ]
  },
  {
   "cell_type": "markdown",
   "id": "8588475e-d1c9-4be1-843b-6233ccd856e9",
   "metadata": {},
   "source": [
    "**over by over comparison**"
   ]
  },
  {
   "cell_type": "code",
   "execution_count": 13,
   "id": "262e9f5f-b4a2-46b3-ae64-b9972a5cb36d",
   "metadata": {},
   "outputs": [],
   "source": [
    "match_id_over_link = {}\n",
    "for id in match_id_link:\n",
    "    match_id_over_link[id] = [match_id_link[id][0].replace('full-scorecard','match-overs-comparison'), match_id_link[id][1]]\n",
    "# print(match_id_over_link)"
   ]
  },
  {
   "cell_type": "code",
   "execution_count": 14,
   "id": "f16a2dfa-adac-420c-bfc8-b04c853f65b2",
   "metadata": {},
   "outputs": [
    {
     "data": {
      "text/plain": [
       "'i = 0\\nover_by_over = []\\nfor id in match_id_over_link:\\n    if i > 0:\\n        break\\n    i += 1\\n    \\n    match_id = id\\n    match_url = match_id_over_link[id][0]\\n\\n    match_html_text = requests.get(match_url,headers=headers).text\\n    match_soup = BeautifulSoup(match_html_text, \\'lxml\\')\\n\\n    overs_soup = match_soup.find(\\'table\\', class_=\"ds-w-full ds-table ds-table-md ds-table-bordered ds-border-collapse ds-border ds-border-line ds-table-fixed\")\\n    team_names = overs_soup.find(\\'thead\\').find(\\'tr\\').find_all(\\'th\\')\\n    team1 = team_names[1].text.strip()\\n    team2 = team_names[2].text.strip()\\n\\n    each_row = overs_soup.find(\\'tbody\\').find_all(\\'tr\\')\\n    k = 1\\n    for rows in each_row:\\n        if k > 2:\\n            break\\n        k = k + 1\\n\\n        value = rows.find_all(\\'td\\')\\n        print(value[1].prettify)\\n        if value[0]:\\n            over_num = value[0].text.strip()\\n\\n        # team 1\\n        if value[1]:\\n            team1_over = {}\\n            runs_and_wickets = value[1].span.text\\n            bowler_and_balls_list = value[1].find_all(\\'div\\', attrs = {\"class\":\"ds-text-typo\"})\\n            # bowler_and_balls_list = value[1].find_all(lambda tag: tag.name == \\'div\\' and tag.get(\\'class\\') == [\\'ds-text-typo\\'])\\n            # for i in bowler_and_balls_list:\\n            #     print(i.prettify())\\n            #     print(\\'****\\')\\n            # print(bowler_and_balls_list)\\n            # parent_div = value[1].div\\n            # x = {}\\n            # y = 1\\n            # for child in parent_div.children:\\n            #     x[y] = child\\n            #     y = y + 1\\n            # print(x[2].find(\\'div\\').text)\\n            # bowler_and_balls_list = value[1].div.find(\\'div\\')\\n            # print(value[1].find(\\'div\\', class_=\"ds-text-compact-xs ds-pt-2 ds-mt-2\"))\\n            # print(\\'*\\'*15)\\n            # bowler_and_balls = bowler_and_balls_list[1].find_all(\\'div\\')\\n            \\n            # bowler = bowler_and_balls[0].text\\n            # print(bowler)\\n            # balls = [ball.text for ball in bowler_and_balls[1]]\\n            \\n            team1_over[\\'match_id\\'] = match_id\\n            team1_over[\\'match\\'] = match_id_over_link[id][1]\\n            team1_over[\\'team\\'] = team1\\n            team1_over[\\'over\\'] = over_num\\n            team1_over[\\'runs\\'] = runs_and_wickets.split(\\',\\')[0].replace(\\'(\\',\\'\\').replace(\\'runs\\',\\'\\').strip()\\n            team1_over[\\'wickets\\'] = runs_and_wickets.split(\\',\\')[1].replace(\\')\\',\\'\\').replace(\\'wkt\\',\\'\\').strip()\\n            # team1_over[\\'bowler\\'] = bowler.split(\\':\\')[1].strip()\\n            # team1_over[\\'balls\\'] = balls\\n            \\n            over_by_over.append(team1_over)\\n\\n        # team 2\\n        if value[2]:\\n            team2_over = {}\\n            runs_and_wickets = value[2].span.text\\n            # bowler_and_balls_list = value[2].find_all(\\'div\\', class_=\"ds-text-typo\")\\n            # bowler_and_balls = bowler_and_balls_list[1].find_all(\\'div\\')\\n            # bowler_and_balls_list = value[2].div.find_all(\\'div\\', recursive=False)\\n            # print(len(bowler_and_balls_list))\\n            # bowler = bowler_and_balls[0].text\\n            # balls = [ball.text for ball in bowler_and_balls[1]]\\n            \\n            team2_over[\\'match_id\\'] = match_id\\n            team2_over[\\'match\\'] = match_id_over_link[id][1]\\n            team2_over[\\'team\\'] = team2\\n            team2_over[\\'over\\'] = over_num\\n            team2_over[\\'runs\\'] = runs_and_wickets.split(\\',\\')[0].replace(\\'(\\',\\'\\').replace(\\'runs\\',\\'\\').strip()\\n            team2_over[\\'wickets\\'] = runs_and_wickets.split(\\',\\')[1].replace(\\')\\',\\'\\').replace(\\'wkt\\',\\'\\').strip()\\n            # team2_over[\\'bowler\\'] = bowler.split(\\':\\')[1].strip()\\n            # team2_over[\\'balls\\'] = balls\\n    \\n            over_by_over.append(team2_over)\\n        # print(over_by_over)\\n\\n'"
      ]
     },
     "execution_count": 14,
     "metadata": {},
     "output_type": "execute_result"
    }
   ],
   "source": [
    "'''i = 0\n",
    "over_by_over = []\n",
    "for id in match_id_over_link:\n",
    "    if i > 0:\n",
    "        break\n",
    "    i += 1\n",
    "    \n",
    "    match_id = id\n",
    "    match_url = match_id_over_link[id][0]\n",
    "\n",
    "    match_html_text = requests.get(match_url,headers=headers).text\n",
    "    match_soup = BeautifulSoup(match_html_text, 'lxml')\n",
    "\n",
    "    overs_soup = match_soup.find('table', class_=\"ds-w-full ds-table ds-table-md ds-table-bordered ds-border-collapse ds-border ds-border-line ds-table-fixed\")\n",
    "    team_names = overs_soup.find('thead').find('tr').find_all('th')\n",
    "    team1 = team_names[1].text.strip()\n",
    "    team2 = team_names[2].text.strip()\n",
    "\n",
    "    each_row = overs_soup.find('tbody').find_all('tr')\n",
    "    k = 1\n",
    "    for rows in each_row:\n",
    "        if k > 2:\n",
    "            break\n",
    "        k = k + 1\n",
    "\n",
    "        value = rows.find_all('td')\n",
    "        print(value[1].prettify)\n",
    "        if value[0]:\n",
    "            over_num = value[0].text.strip()\n",
    "\n",
    "        # team 1\n",
    "        if value[1]:\n",
    "            team1_over = {}\n",
    "            runs_and_wickets = value[1].span.text\n",
    "            bowler_and_balls_list = value[1].find_all('div', attrs = {\"class\":\"ds-text-typo\"})\n",
    "            # bowler_and_balls_list = value[1].find_all(lambda tag: tag.name == 'div' and tag.get('class') == ['ds-text-typo'])\n",
    "            # for i in bowler_and_balls_list:\n",
    "            #     print(i.prettify())\n",
    "            #     print('****')\n",
    "            # print(bowler_and_balls_list)\n",
    "            # parent_div = value[1].div\n",
    "            # x = {}\n",
    "            # y = 1\n",
    "            # for child in parent_div.children:\n",
    "            #     x[y] = child\n",
    "            #     y = y + 1\n",
    "            # print(x[2].find('div').text)\n",
    "            # bowler_and_balls_list = value[1].div.find('div')\n",
    "            # print(value[1].find('div', class_=\"ds-text-compact-xs ds-pt-2 ds-mt-2\"))\n",
    "            # print('*'*15)\n",
    "            # bowler_and_balls = bowler_and_balls_list[1].find_all('div')\n",
    "            \n",
    "            # bowler = bowler_and_balls[0].text\n",
    "            # print(bowler)\n",
    "            # balls = [ball.text for ball in bowler_and_balls[1]]\n",
    "            \n",
    "            team1_over['match_id'] = match_id\n",
    "            team1_over['match'] = match_id_over_link[id][1]\n",
    "            team1_over['team'] = team1\n",
    "            team1_over['over'] = over_num\n",
    "            team1_over['runs'] = runs_and_wickets.split(',')[0].replace('(','').replace('runs','').strip()\n",
    "            team1_over['wickets'] = runs_and_wickets.split(',')[1].replace(')','').replace('wkt','').strip()\n",
    "            # team1_over['bowler'] = bowler.split(':')[1].strip()\n",
    "            # team1_over['balls'] = balls\n",
    "            \n",
    "            over_by_over.append(team1_over)\n",
    "\n",
    "        # team 2\n",
    "        if value[2]:\n",
    "            team2_over = {}\n",
    "            runs_and_wickets = value[2].span.text\n",
    "            # bowler_and_balls_list = value[2].find_all('div', class_=\"ds-text-typo\")\n",
    "            # bowler_and_balls = bowler_and_balls_list[1].find_all('div')\n",
    "            # bowler_and_balls_list = value[2].div.find_all('div', recursive=False)\n",
    "            # print(len(bowler_and_balls_list))\n",
    "            # bowler = bowler_and_balls[0].text\n",
    "            # balls = [ball.text for ball in bowler_and_balls[1]]\n",
    "            \n",
    "            team2_over['match_id'] = match_id\n",
    "            team2_over['match'] = match_id_over_link[id][1]\n",
    "            team2_over['team'] = team2\n",
    "            team2_over['over'] = over_num\n",
    "            team2_over['runs'] = runs_and_wickets.split(',')[0].replace('(','').replace('runs','').strip()\n",
    "            team2_over['wickets'] = runs_and_wickets.split(',')[1].replace(')','').replace('wkt','').strip()\n",
    "            # team2_over['bowler'] = bowler.split(':')[1].strip()\n",
    "            # team2_over['balls'] = balls\n",
    "    \n",
    "            over_by_over.append(team2_over)\n",
    "        # print(over_by_over)\n",
    "\n",
    "'''"
   ]
  },
  {
   "cell_type": "code",
   "execution_count": 23,
   "id": "227de755-6418-4a5a-9e81-01c6dc7db237",
   "metadata": {},
   "outputs": [
    {
     "name": "stderr",
     "output_type": "stream",
     "text": [
      "Processing:   2%|█▌                                                                | 1/42 [00:27<18:39, 27.30s/matches]"
     ]
    },
    {
     "name": "stdout",
     "output_type": "stream",
     "text": [
      "Pop up didn't appear for  Netherlands Vs U.A.E.\n"
     ]
    },
    {
     "name": "stderr",
     "output_type": "stream",
     "text": [
      "Processing:   5%|███▏                                                              | 2/42 [00:49<16:14, 24.36s/matches]"
     ]
    },
    {
     "name": "stdout",
     "output_type": "stream",
     "text": [
      "Pop up didn't appear for  Scotland Vs West Indies\n"
     ]
    },
    {
     "name": "stderr",
     "output_type": "stream",
     "text": [
      "Processing:   7%|████▋                                                             | 3/42 [01:11<15:10, 23.35s/matches]"
     ]
    },
    {
     "name": "stdout",
     "output_type": "stream",
     "text": [
      "Pop up didn't appear for  Ireland Vs Zimbabwe\n"
     ]
    },
    {
     "name": "stderr",
     "output_type": "stream",
     "text": [
      "Processing:  10%|██████▎                                                           | 4/42 [01:33<14:22, 22.69s/matches]"
     ]
    },
    {
     "name": "stdout",
     "output_type": "stream",
     "text": [
      "Pop up didn't appear for  Namibia Vs Netherlands\n"
     ]
    },
    {
     "name": "stderr",
     "output_type": "stream",
     "text": [
      "Processing:  12%|███████▊                                                          | 5/42 [01:55<13:46, 22.33s/matches]"
     ]
    },
    {
     "name": "stdout",
     "output_type": "stream",
     "text": [
      "Pop up didn't appear for  Sri Lanka Vs U.A.E.\n"
     ]
    },
    {
     "name": "stderr",
     "output_type": "stream",
     "text": [
      "Processing:  14%|█████████▍                                                        | 6/42 [02:17<13:27, 22.44s/matches]"
     ]
    },
    {
     "name": "stdout",
     "output_type": "stream",
     "text": [
      "Pop up didn't appear for  Ireland Vs Scotland\n"
     ]
    },
    {
     "name": "stderr",
     "output_type": "stream",
     "text": [
      "Processing:  17%|███████████                                                       | 7/42 [02:40<13:04, 22.41s/matches]"
     ]
    },
    {
     "name": "stdout",
     "output_type": "stream",
     "text": [
      "Pop up didn't appear for  West Indies Vs Zimbabwe\n"
     ]
    },
    {
     "name": "stderr",
     "output_type": "stream",
     "text": [
      "Processing:  19%|████████████▌                                                     | 8/42 [03:02<12:38, 22.30s/matches]"
     ]
    },
    {
     "name": "stdout",
     "output_type": "stream",
     "text": [
      "Pop up didn't appear for  Netherlands Vs Sri Lanka\n"
     ]
    },
    {
     "name": "stderr",
     "output_type": "stream",
     "text": [
      "Processing:  21%|██████████████▏                                                   | 9/42 [03:24<12:20, 22.43s/matches]"
     ]
    },
    {
     "name": "stdout",
     "output_type": "stream",
     "text": [
      "Pop up didn't appear for  Namibia Vs U.A.E.\n"
     ]
    },
    {
     "name": "stderr",
     "output_type": "stream",
     "text": [
      "Processing:  24%|███████████████▍                                                 | 10/42 [03:47<12:02, 22.58s/matches]"
     ]
    },
    {
     "name": "stdout",
     "output_type": "stream",
     "text": [
      "Pop up didn't appear for  Ireland Vs West Indies\n"
     ]
    },
    {
     "name": "stderr",
     "output_type": "stream",
     "text": [
      "Processing:  26%|█████████████████                                                | 11/42 [04:10<11:39, 22.57s/matches]"
     ]
    },
    {
     "name": "stdout",
     "output_type": "stream",
     "text": [
      "Pop up didn't appear for  Scotland Vs Zimbabwe\n"
     ]
    },
    {
     "name": "stderr",
     "output_type": "stream",
     "text": [
      "Processing:  29%|██████████████████▌                                              | 12/42 [04:32<11:15, 22.50s/matches]"
     ]
    },
    {
     "name": "stdout",
     "output_type": "stream",
     "text": [
      "Pop up didn't appear for  Australia Vs New Zealand\n"
     ]
    },
    {
     "name": "stderr",
     "output_type": "stream",
     "text": [
      "Processing:  31%|████████████████████                                             | 13/42 [04:53<10:41, 22.11s/matches]"
     ]
    },
    {
     "name": "stdout",
     "output_type": "stream",
     "text": [
      "Pop up didn't appear for  Afghanistan Vs England\n"
     ]
    },
    {
     "name": "stderr",
     "output_type": "stream",
     "text": [
      "Processing:  33%|█████████████████████▋                                           | 14/42 [05:15<10:17, 22.06s/matches]"
     ]
    },
    {
     "name": "stdout",
     "output_type": "stream",
     "text": [
      "Pop up didn't appear for  Ireland Vs Sri Lanka\n"
     ]
    },
    {
     "name": "stderr",
     "output_type": "stream",
     "text": [
      "Processing:  36%|███████████████████████▏                                         | 15/42 [05:38<09:56, 22.10s/matches]"
     ]
    },
    {
     "name": "stdout",
     "output_type": "stream",
     "text": [
      "Pop up didn't appear for  India Vs Pakistan\n"
     ]
    },
    {
     "name": "stderr",
     "output_type": "stream",
     "text": [
      "Processing:  38%|████████████████████████▊                                        | 16/42 [05:59<09:29, 21.91s/matches]"
     ]
    },
    {
     "name": "stdout",
     "output_type": "stream",
     "text": [
      "Pop up didn't appear for  Bangladesh Vs Netherlands\n"
     ]
    },
    {
     "name": "stderr",
     "output_type": "stream",
     "text": [
      "Processing:  40%|██████████████████████████▎                                      | 17/42 [06:21<09:09, 21.98s/matches]"
     ]
    },
    {
     "name": "stdout",
     "output_type": "stream",
     "text": [
      "Pop up didn't appear for  South Africa Vs Zimbabwe\n"
     ]
    },
    {
     "name": "stderr",
     "output_type": "stream",
     "text": [
      "Processing:  43%|███████████████████████████▊                                     | 18/42 [06:41<08:34, 21.45s/matches]"
     ]
    },
    {
     "name": "stdout",
     "output_type": "stream",
     "text": [
      "Pop up didn't appear for  Australia Vs Sri Lanka\n"
     ]
    },
    {
     "name": "stderr",
     "output_type": "stream",
     "text": [
      "Processing:  45%|█████████████████████████████▍                                   | 19/42 [07:03<08:14, 21.51s/matches]"
     ]
    },
    {
     "name": "stdout",
     "output_type": "stream",
     "text": [
      "Pop up didn't appear for  England Vs Ireland\n"
     ]
    },
    {
     "name": "stderr",
     "output_type": "stream",
     "text": [
      "Processing:  48%|██████████████████████████████▉                                  | 20/42 [07:25<07:56, 21.68s/matches]"
     ]
    },
    {
     "name": "stdout",
     "output_type": "stream",
     "text": [
      "Pop up didn't appear for  Bangladesh Vs South Africa\n"
     ]
    },
    {
     "name": "stderr",
     "output_type": "stream",
     "text": [
      "Processing:  50%|████████████████████████████████▌                                | 21/42 [07:48<07:42, 22.02s/matches]"
     ]
    },
    {
     "name": "stdout",
     "output_type": "stream",
     "text": [
      "Pop up didn't appear for  India Vs Netherlands\n"
     ]
    },
    {
     "name": "stderr",
     "output_type": "stream",
     "text": [
      "Processing:  52%|██████████████████████████████████                               | 22/42 [08:09<07:15, 21.78s/matches]"
     ]
    },
    {
     "name": "stdout",
     "output_type": "stream",
     "text": [
      "Pop up didn't appear for  Pakistan Vs Zimbabwe\n"
     ]
    },
    {
     "name": "stderr",
     "output_type": "stream",
     "text": [
      "Processing:  55%|███████████████████████████████████▌                             | 23/42 [08:32<07:00, 22.13s/matches]"
     ]
    },
    {
     "name": "stdout",
     "output_type": "stream",
     "text": [
      "Pop up didn't appear for  New Zealand Vs Sri Lanka\n"
     ]
    },
    {
     "name": "stderr",
     "output_type": "stream",
     "text": [
      "Processing:  57%|█████████████████████████████████████▏                           | 24/42 [08:55<06:43, 22.41s/matches]"
     ]
    },
    {
     "name": "stdout",
     "output_type": "stream",
     "text": [
      "Pop up didn't appear for  Bangladesh Vs Zimbabwe\n"
     ]
    },
    {
     "name": "stderr",
     "output_type": "stream",
     "text": [
      "Processing:  60%|██████████████████████████████████████▋                          | 25/42 [09:17<06:20, 22.37s/matches]"
     ]
    },
    {
     "name": "stdout",
     "output_type": "stream",
     "text": [
      "Pop up didn't appear for  Netherlands Vs Pakistan\n"
     ]
    },
    {
     "name": "stderr",
     "output_type": "stream",
     "text": [
      "Processing:  62%|████████████████████████████████████████▏                        | 26/42 [09:39<05:54, 22.18s/matches]"
     ]
    },
    {
     "name": "stdout",
     "output_type": "stream",
     "text": [
      "Pop up didn't appear for  India Vs South Africa\n"
     ]
    },
    {
     "name": "stderr",
     "output_type": "stream",
     "text": [
      "Processing:  64%|█████████████████████████████████████████▊                       | 27/42 [10:01<05:30, 22.04s/matches]"
     ]
    },
    {
     "name": "stdout",
     "output_type": "stream",
     "text": [
      "Pop up didn't appear for  Australia Vs Ireland\n"
     ]
    },
    {
     "name": "stderr",
     "output_type": "stream",
     "text": [
      "Processing:  67%|███████████████████████████████████████████▎                     | 28/42 [10:23<05:07, 21.95s/matches]"
     ]
    },
    {
     "name": "stdout",
     "output_type": "stream",
     "text": [
      "Pop up didn't appear for  Afghanistan Vs Sri Lanka\n"
     ]
    },
    {
     "name": "stderr",
     "output_type": "stream",
     "text": [
      "Processing:  69%|████████████████████████████████████████████▉                    | 29/42 [10:44<04:44, 21.91s/matches]"
     ]
    },
    {
     "name": "stdout",
     "output_type": "stream",
     "text": [
      "Pop up didn't appear for  England Vs New Zealand\n"
     ]
    },
    {
     "name": "stderr",
     "output_type": "stream",
     "text": [
      "Processing:  71%|██████████████████████████████████████████████▍                  | 30/42 [11:06<04:20, 21.74s/matches]"
     ]
    },
    {
     "name": "stdout",
     "output_type": "stream",
     "text": [
      "Pop up didn't appear for  Netherlands Vs Zimbabwe\n"
     ]
    },
    {
     "name": "stderr",
     "output_type": "stream",
     "text": [
      "Processing:  74%|███████████████████████████████████████████████▉                 | 31/42 [11:28<03:59, 21.78s/matches]"
     ]
    },
    {
     "name": "stdout",
     "output_type": "stream",
     "text": [
      "Pop up didn't appear for  Bangladesh Vs India\n"
     ]
    },
    {
     "name": "stderr",
     "output_type": "stream",
     "text": [
      "Processing:  76%|█████████████████████████████████████████████████▌               | 32/42 [11:50<03:38, 21.85s/matches]"
     ]
    },
    {
     "name": "stdout",
     "output_type": "stream",
     "text": [
      "Pop up didn't appear for  Pakistan Vs South Africa\n"
     ]
    },
    {
     "name": "stderr",
     "output_type": "stream",
     "text": [
      "Processing:  79%|███████████████████████████████████████████████████              | 33/42 [12:12<03:17, 21.90s/matches]"
     ]
    },
    {
     "name": "stdout",
     "output_type": "stream",
     "text": [
      "Pop up didn't appear for  Ireland Vs New Zealand\n"
     ]
    },
    {
     "name": "stderr",
     "output_type": "stream",
     "text": [
      "Processing:  81%|████████████████████████████████████████████████████▌            | 34/42 [12:34<02:57, 22.13s/matches]"
     ]
    },
    {
     "name": "stdout",
     "output_type": "stream",
     "text": [
      "Pop up didn't appear for  Australia Vs Afghanistan\n"
     ]
    },
    {
     "name": "stderr",
     "output_type": "stream",
     "text": [
      "Processing:  83%|██████████████████████████████████████████████████████▏          | 35/42 [12:56<02:34, 22.09s/matches]"
     ]
    },
    {
     "name": "stdout",
     "output_type": "stream",
     "text": [
      "Pop up didn't appear for  England Vs Sri Lanka\n"
     ]
    },
    {
     "name": "stderr",
     "output_type": "stream",
     "text": [
      "Processing:  86%|███████████████████████████████████████████████████████▋         | 36/42 [13:19<02:12, 22.14s/matches]"
     ]
    },
    {
     "name": "stdout",
     "output_type": "stream",
     "text": [
      "Pop up didn't appear for  Netherlands Vs South Africa\n"
     ]
    },
    {
     "name": "stderr",
     "output_type": "stream",
     "text": [
      "Processing:  88%|█████████████████████████████████████████████████████████▎       | 37/42 [13:41<01:50, 22.16s/matches]"
     ]
    },
    {
     "name": "stdout",
     "output_type": "stream",
     "text": [
      "Pop up didn't appear for  Bangladesh Vs Pakistan\n"
     ]
    },
    {
     "name": "stderr",
     "output_type": "stream",
     "text": [
      "Processing:  90%|██████████████████████████████████████████████████████████▊      | 38/42 [14:02<01:28, 22.00s/matches]"
     ]
    },
    {
     "name": "stdout",
     "output_type": "stream",
     "text": [
      "Pop up didn't appear for  India Vs Zimbabwe\n"
     ]
    },
    {
     "name": "stderr",
     "output_type": "stream",
     "text": [
      "Processing:  93%|████████████████████████████████████████████████████████████▎    | 39/42 [14:25<01:06, 22.03s/matches]"
     ]
    },
    {
     "name": "stdout",
     "output_type": "stream",
     "text": [
      "Pop up didn't appear for  New Zealand Vs Pakistan\n"
     ]
    },
    {
     "name": "stderr",
     "output_type": "stream",
     "text": [
      "Processing:  95%|█████████████████████████████████████████████████████████████▉   | 40/42 [14:46<00:43, 21.79s/matches]"
     ]
    },
    {
     "name": "stdout",
     "output_type": "stream",
     "text": [
      "Pop up didn't appear for  England Vs India\n"
     ]
    },
    {
     "name": "stderr",
     "output_type": "stream",
     "text": [
      "Processing:  98%|███████████████████████████████████████████████████████████████▍ | 41/42 [15:08<00:21, 21.90s/matches]"
     ]
    },
    {
     "name": "stdout",
     "output_type": "stream",
     "text": [
      "Pop up didn't appear for  England Vs Pakistan\n"
     ]
    },
    {
     "name": "stderr",
     "output_type": "stream",
     "text": [
      "Processing: 100%|█████████████████████████████████████████████████████████████████| 42/42 [15:30<00:00, 22.16s/matches]\n"
     ]
    }
   ],
   "source": [
    "driver = Chrome(options=options)\n",
    "\n",
    "over_by_over = []\n",
    "\n",
    "for id in tqdm(match_id_over_link, desc=\"Processing\", unit=\"matches\", total=len(match_id_over_link)):\n",
    "    match_id = id\n",
    "    match_url = match_id_over_link[id][0]\n",
    "\n",
    "    driver.get(match_url)\n",
    "\n",
    "    driver.implicitly_wait(5)\n",
    "   \n",
    "    try:\n",
    "        no_thanks_button = WebDriverWait(driver,15).until(\n",
    "            EC.element_to_be_clickable((By.ID,'wzrk-cancel'))\n",
    "        )\n",
    "        no_thanks_button.click()\n",
    "    except:\n",
    "        print(\"Pop up didn't appear for \",match_id_over_link[id][1])\n",
    "\n",
    "    wait = WebDriverWait(driver,5)\n",
    "\n",
    "    click_elements = driver.find_elements(By.XPATH,'//td[@class=\"ds-min-w-max ds-cursor-pointer ds-align-top\"]')\n",
    "    for element in click_elements[1:]:\n",
    "        element.click()\n",
    "        new = element.find_element(By.XPATH, './following-sibling::td[1]//div[@class=\"ds-text-compact-xs ds-pt-2 ds-mt-2\"]')\n",
    "        wait.until(EC.visibility_of(new))\n",
    "\n",
    "    html = driver.page_source\n",
    "    match_soup = BeautifulSoup(html,'lxml')\n",
    "\n",
    "    overs_soup = match_soup.find('table', class_=\"ds-w-full ds-table ds-table-md ds-table-bordered ds-border-collapse ds-border ds-border-line ds-table-fixed\")\n",
    "    team_names = overs_soup.find('thead').find('tr').find_all('th')\n",
    "    team1 = team_names[1].text.strip()\n",
    "    team2 = team_names[2].text.strip()\n",
    "\n",
    "    each_row = overs_soup.find('tbody').find_all('tr')\n",
    "\n",
    "\n",
    "    for rows in each_row:\n",
    "\n",
    "        value = rows.find_all('td')\n",
    "\n",
    "        if value[0].div:\n",
    "            over_num = value[0].text.strip()\n",
    "\n",
    "        # team 1\n",
    "        if value[1].span:\n",
    "            team1_over = {}\n",
    "            runs_and_wickets = value[1].span.text\n",
    "            bowler_and_balls_list = value[1].find_all('div', attrs={\"class\": \"ds-text-typo\"})\n",
    "            bowler_and_balls = bowler_and_balls_list[1].find_all('div')\n",
    "            bowler = bowler_and_balls[0].text\n",
    "            balls = [ball.text for ball in bowler_and_balls[1]]\n",
    "\n",
    "            team1_over['match_id'] = match_id\n",
    "            team1_over['match'] = match_id_over_link[id][1]\n",
    "            team1_over['team'] = team2\n",
    "            team1_over['over'] = over_num\n",
    "            team1_over['runs'] = runs_and_wickets.split(',')[0].replace('(', '').replace('runs', '').strip()\n",
    "            team1_over['wickets'] = runs_and_wickets.split(',')[1].replace(')', '').replace('wkt', '').strip()\n",
    "            team1_over['bowler'] = bowler.split(':')[1].strip()\n",
    "            team1_over['balls'] = balls\n",
    "\n",
    "            over_by_over.append(team1_over)\n",
    "\n",
    "        # team 2\n",
    "        if value[2].span:\n",
    "            team2_over = {}\n",
    "            runs_and_wickets = value[2].span.text\n",
    "            bowler_and_balls_list = value[2].find_all('div', class_=\"ds-text-typo\")\n",
    "            bowler_and_balls = bowler_and_balls_list[1].find_all('div')\n",
    "            bowler = bowler_and_balls[0].text\n",
    "            balls = [ball.text for ball in bowler_and_balls[1]]\n",
    "\n",
    "            team2_over['match_id'] = match_id\n",
    "            team2_over['match'] = match_id_over_link[id][1]\n",
    "            team2_over['team'] = team1\n",
    "            team2_over['over'] = over_num\n",
    "            team2_over['runs'] = runs_and_wickets.split(',')[0].replace('(', '').replace('runs', '').strip()\n",
    "            team2_over['wickets'] = runs_and_wickets.split(',')[1].replace(')', '').replace('wkt', '').strip()\n",
    "            team2_over['bowler'] = bowler.split(':')[1].strip()\n",
    "            team2_over['balls'] = balls\n",
    "\n",
    "            over_by_over.append(team2_over)\n",
    "\n",
    "driver.quit()\n",
    "df = pd.DataFrame(over_by_over)\n",
    "df.to_csv('bowler_balls1.csv', encoding='utf-8-sig',index=False)\n",
    "    \n"
   ]
  },
  {
   "cell_type": "code",
   "execution_count": 28,
   "id": "d200e058-d5a2-4374-914f-352cad11dc5e",
   "metadata": {},
   "outputs": [
    {
     "data": {
      "text/html": [
       "<div>\n",
       "<style scoped>\n",
       "    .dataframe tbody tr th:only-of-type {\n",
       "        vertical-align: middle;\n",
       "    }\n",
       "\n",
       "    .dataframe tbody tr th {\n",
       "        vertical-align: top;\n",
       "    }\n",
       "\n",
       "    .dataframe thead th {\n",
       "        text-align: right;\n",
       "    }\n",
       "</style>\n",
       "<table border=\"1\" class=\"dataframe\">\n",
       "  <thead>\n",
       "    <tr style=\"text-align: right;\">\n",
       "      <th></th>\n",
       "      <th>match_id</th>\n",
       "      <th>match</th>\n",
       "      <th>team</th>\n",
       "      <th>over</th>\n",
       "      <th>runs</th>\n",
       "      <th>wickets</th>\n",
       "      <th>bowler</th>\n",
       "      <th>balls</th>\n",
       "    </tr>\n",
       "  </thead>\n",
       "  <tbody>\n",
       "    <tr>\n",
       "      <th>0</th>\n",
       "      <td>T20I # 1823</td>\n",
       "      <td>Namibia Vs Sri Lanka</td>\n",
       "      <td>Sri Lanka</td>\n",
       "      <td>1</td>\n",
       "      <td>5</td>\n",
       "      <td>0</td>\n",
       "      <td>Maheesh Theekshana</td>\n",
       "      <td>[•, •, 1, 1, 2, 1w, •]</td>\n",
       "    </tr>\n",
       "    <tr>\n",
       "      <th>1</th>\n",
       "      <td>T20I # 1823</td>\n",
       "      <td>Namibia Vs Sri Lanka</td>\n",
       "      <td>Namibia</td>\n",
       "      <td>1</td>\n",
       "      <td>8</td>\n",
       "      <td>0</td>\n",
       "      <td>Gerhard Erasmus</td>\n",
       "      <td>[4, 1, 1, •, 1, 1]</td>\n",
       "    </tr>\n",
       "    <tr>\n",
       "      <th>2</th>\n",
       "      <td>T20I # 1823</td>\n",
       "      <td>Namibia Vs Sri Lanka</td>\n",
       "      <td>Sri Lanka</td>\n",
       "      <td>2</td>\n",
       "      <td>8</td>\n",
       "      <td>1</td>\n",
       "      <td>Dushmantha Chameera</td>\n",
       "      <td>[1, W, 1, 4, •, 2]</td>\n",
       "    </tr>\n",
       "    <tr>\n",
       "      <th>3</th>\n",
       "      <td>T20I # 1823</td>\n",
       "      <td>Namibia Vs Sri Lanka</td>\n",
       "      <td>Namibia</td>\n",
       "      <td>2</td>\n",
       "      <td>5</td>\n",
       "      <td>1</td>\n",
       "      <td>David Wiese</td>\n",
       "      <td>[•, 2, 2, W, 1, •]</td>\n",
       "    </tr>\n",
       "    <tr>\n",
       "      <th>4</th>\n",
       "      <td>T20I # 1823</td>\n",
       "      <td>Namibia Vs Sri Lanka</td>\n",
       "      <td>Sri Lanka</td>\n",
       "      <td>3</td>\n",
       "      <td>3</td>\n",
       "      <td>1</td>\n",
       "      <td>Pramod Madushan</td>\n",
       "      <td>[1, 1, 1, •, •, W]</td>\n",
       "    </tr>\n",
       "    <tr>\n",
       "      <th>...</th>\n",
       "      <td>...</td>\n",
       "      <td>...</td>\n",
       "      <td>...</td>\n",
       "      <td>...</td>\n",
       "      <td>...</td>\n",
       "      <td>...</td>\n",
       "      <td>...</td>\n",
       "      <td>...</td>\n",
       "    </tr>\n",
       "    <tr>\n",
       "      <th>1591</th>\n",
       "      <td>T20I # 1879</td>\n",
       "      <td>England Vs Pakistan</td>\n",
       "      <td>England</td>\n",
       "      <td>18</td>\n",
       "      <td>5</td>\n",
       "      <td>1</td>\n",
       "      <td>Chris Jordan</td>\n",
       "      <td>[1, W, •, 3, 1, •]</td>\n",
       "    </tr>\n",
       "    <tr>\n",
       "      <th>1592</th>\n",
       "      <td>T20I # 1879</td>\n",
       "      <td>England Vs Pakistan</td>\n",
       "      <td>Pakistan</td>\n",
       "      <td>18</td>\n",
       "      <td>5</td>\n",
       "      <td>0</td>\n",
       "      <td>Haris Rauf</td>\n",
       "      <td>[1, 1, 2, •, •, 1]</td>\n",
       "    </tr>\n",
       "    <tr>\n",
       "      <th>1593</th>\n",
       "      <td>T20I # 1879</td>\n",
       "      <td>England Vs Pakistan</td>\n",
       "      <td>England</td>\n",
       "      <td>19</td>\n",
       "      <td>4</td>\n",
       "      <td>1</td>\n",
       "      <td>Sam Curran</td>\n",
       "      <td>[•, 2, W, 1, •, 1]</td>\n",
       "    </tr>\n",
       "    <tr>\n",
       "      <th>1594</th>\n",
       "      <td>T20I # 1879</td>\n",
       "      <td>England Vs Pakistan</td>\n",
       "      <td>Pakistan</td>\n",
       "      <td>19</td>\n",
       "      <td>7</td>\n",
       "      <td>1</td>\n",
       "      <td>Mohammad Wasim</td>\n",
       "      <td>[1, W, 1, 4, •, 1]</td>\n",
       "    </tr>\n",
       "    <tr>\n",
       "      <th>1595</th>\n",
       "      <td>T20I # 1879</td>\n",
       "      <td>England Vs Pakistan</td>\n",
       "      <td>England</td>\n",
       "      <td>20</td>\n",
       "      <td>6</td>\n",
       "      <td>1</td>\n",
       "      <td>Chris Jordan</td>\n",
       "      <td>[•, •, W, 1, 4, 1b]</td>\n",
       "    </tr>\n",
       "  </tbody>\n",
       "</table>\n",
       "<p>1596 rows × 8 columns</p>\n",
       "</div>"
      ],
      "text/plain": [
       "         match_id                 match       team over runs wickets   \n",
       "0     T20I # 1823  Namibia Vs Sri Lanka  Sri Lanka    1    5       0  \\\n",
       "1     T20I # 1823  Namibia Vs Sri Lanka    Namibia    1    8       0   \n",
       "2     T20I # 1823  Namibia Vs Sri Lanka  Sri Lanka    2    8       1   \n",
       "3     T20I # 1823  Namibia Vs Sri Lanka    Namibia    2    5       1   \n",
       "4     T20I # 1823  Namibia Vs Sri Lanka  Sri Lanka    3    3       1   \n",
       "...           ...                   ...        ...  ...  ...     ...   \n",
       "1591  T20I # 1879   England Vs Pakistan    England   18    5       1   \n",
       "1592  T20I # 1879   England Vs Pakistan   Pakistan   18    5       0   \n",
       "1593  T20I # 1879   England Vs Pakistan    England   19    4       1   \n",
       "1594  T20I # 1879   England Vs Pakistan   Pakistan   19    7       1   \n",
       "1595  T20I # 1879   England Vs Pakistan    England   20    6       1   \n",
       "\n",
       "                   bowler                   balls  \n",
       "0      Maheesh Theekshana  [•, •, 1, 1, 2, 1w, •]  \n",
       "1         Gerhard Erasmus      [4, 1, 1, •, 1, 1]  \n",
       "2     Dushmantha Chameera      [1, W, 1, 4, •, 2]  \n",
       "3             David Wiese      [•, 2, 2, W, 1, •]  \n",
       "4         Pramod Madushan      [1, 1, 1, •, •, W]  \n",
       "...                   ...                     ...  \n",
       "1591         Chris Jordan      [1, W, •, 3, 1, •]  \n",
       "1592           Haris Rauf      [1, 1, 2, •, •, 1]  \n",
       "1593           Sam Curran      [•, 2, W, 1, •, 1]  \n",
       "1594       Mohammad Wasim      [1, W, 1, 4, •, 1]  \n",
       "1595         Chris Jordan     [•, •, W, 1, 4, 1b]  \n",
       "\n",
       "[1596 rows x 8 columns]"
      ]
     },
     "execution_count": 28,
     "metadata": {},
     "output_type": "execute_result"
    }
   ],
   "source": []
  },
  {
   "cell_type": "code",
   "execution_count": 33,
   "id": "edab85eb-8e43-4565-a9a0-0837c05ffaa7",
   "metadata": {},
   "outputs": [
    {
     "ename": "AttributeError",
     "evalue": "'function' object has no attribute 'sum'",
     "output_type": "error",
     "traceback": [
      "\u001b[1;31m---------------------------------------------------------------------------\u001b[0m",
      "\u001b[1;31mAttributeError\u001b[0m                            Traceback (most recent call last)",
      "Cell \u001b[1;32mIn[33], line 1\u001b[0m\n\u001b[1;32m----> 1\u001b[0m \u001b[43mdf\u001b[49m\u001b[43m[\u001b[49m\u001b[38;5;124;43m'\u001b[39;49m\u001b[38;5;124;43mruns\u001b[39;49m\u001b[38;5;124;43m'\u001b[39;49m\u001b[43m]\u001b[49m\u001b[38;5;241;43m.\u001b[39;49m\u001b[43munique\u001b[49m\u001b[38;5;241;43m.\u001b[39;49m\u001b[43msum\u001b[49m()\n",
      "\u001b[1;31mAttributeError\u001b[0m: 'function' object has no attribute 'sum'"
     ]
    }
   ],
   "source": []
  },
  {
   "cell_type": "code",
   "execution_count": null,
   "id": "fc0a9f2b-5b92-4bc6-86ca-ae9a95739b58",
   "metadata": {},
   "outputs": [],
   "source": []
  }
 ],
 "metadata": {
  "kernelspec": {
   "display_name": "Python 3 (ipykernel)",
   "language": "python",
   "name": "python3"
  },
  "language_info": {
   "codemirror_mode": {
    "name": "ipython",
    "version": 3
   },
   "file_extension": ".py",
   "mimetype": "text/x-python",
   "name": "python",
   "nbconvert_exporter": "python",
   "pygments_lexer": "ipython3",
   "version": "3.11.1"
  },
  "widgets": {
   "application/vnd.jupyter.widget-state+json": {
    "state": {},
    "version_major": 2,
    "version_minor": 0
   }
  }
 },
 "nbformat": 4,
 "nbformat_minor": 5
}
