{
 "cells": [
  {
   "cell_type": "code",
   "execution_count": 1,
   "id": "819dbb6a-7d00-4c8d-ab95-f33656cdfde4",
   "metadata": {},
   "outputs": [
    {
     "name": "stdout",
     "output_type": "stream",
     "text": [
      "   A  B  C\n",
      "0  1  4  7\n",
      "1  2  5  8\n",
      "2  3  6  9\n",
      "Sum along rows (axis=0):\n",
      " A     6\n",
      "B    15\n",
      "C    24\n",
      "dtype: int64\n"
     ]
    }
   ],
   "source": [
    "import pandas as pd\n",
    "\n",
    "data = {'A': [1, 2, 3], 'B': [4, 5, 6], 'C': [7, 8, 9]}\n",
    "df = pd.DataFrame(data)\n",
    "print(df)\n",
    "\n",
    "# Calculate sum along rows (axis=0)\n",
    "row_sum = df.sum(axis=0)\n",
    "print(\"Sum along rows (axis=0):\\n\", row_sum)\n"
   ]
  },
  {
   "cell_type": "code",
   "execution_count": 2,
   "id": "bd6625c8-32f1-4acb-a90b-3b4dea130033",
   "metadata": {},
   "outputs": [
    {
     "name": "stdout",
     "output_type": "stream",
     "text": [
      "   A  B  C\n",
      "0  1  4  7\n",
      "1  2  5  8\n",
      "2  3  6  9\n",
      "DataFrame with RowSum column:\n",
      "    A  B  C  RowSum\n",
      "0  1  4  7      12\n",
      "1  2  5  8      15\n",
      "2  3  6  9      18\n"
     ]
    }
   ],
   "source": [
    "import pandas as pd\n",
    "\n",
    "data = {'A': [1, 2, 3], 'B': [4, 5, 6], 'C': [7, 8, 9]}\n",
    "df = pd.DataFrame(data)\n",
    "print(df)\n",
    "\n",
    "# Calculate sum along columns (axis=1)\n",
    "df['RowSum'] = df.sum(axis=1)\n",
    "print(\"DataFrame with RowSum column:\\n\", df)\n"
   ]
  },
  {
   "cell_type": "code",
   "execution_count": 3,
   "id": "b0fbc41e-70e1-4434-b1c7-8e8b29b53555",
   "metadata": {},
   "outputs": [
    {
     "name": "stdout",
     "output_type": "stream",
     "text": [
      "      Name        Grades\n",
      "0    Alice  [90, 85, 92]\n",
      "1      Bob  [78, 89, 91]\n",
      "2  Charlie  [95, 88, 84]\n"
     ]
    }
   ],
   "source": [
    "import pandas as pd\n",
    "\n",
    "# Sample data with a column containing lists\n",
    "data = {'Name': ['Alice', 'Bob', 'Charlie'],\n",
    "        'Grades': [[90, 85, 92], [78, 89, 91], [95, 88, 84]]}\n",
    "\n",
    "df = pd.DataFrame(data)\n",
    "\n",
    "print(df)\n"
   ]
  },
  {
   "cell_type": "code",
   "execution_count": 4,
   "id": "559daa54-cedd-4438-ba78-3925af1c16d2",
   "metadata": {},
   "outputs": [
    {
     "name": "stdout",
     "output_type": "stream",
     "text": [
      "<class 'pandas.core.frame.DataFrame'>\n",
      "RangeIndex: 3 entries, 0 to 2\n",
      "Data columns (total 2 columns):\n",
      " #   Column  Non-Null Count  Dtype \n",
      "---  ------  --------------  ----- \n",
      " 0   Name    3 non-null      object\n",
      " 1   Grades  3 non-null      object\n",
      "dtypes: object(2)\n",
      "memory usage: 176.0+ bytes\n"
     ]
    }
   ],
   "source": [
    "df.info()"
   ]
  },
  {
   "cell_type": "code",
   "execution_count": 5,
   "id": "4028baa5-b512-4f1b-a4e0-e516981f66d0",
   "metadata": {},
   "outputs": [
    {
     "data": {
      "text/plain": [
       "[90, 85, 92]"
      ]
     },
     "execution_count": 5,
     "metadata": {},
     "output_type": "execute_result"
    }
   ],
   "source": [
    "df.loc[0,'Grades']"
   ]
  },
  {
   "cell_type": "code",
   "execution_count": 6,
   "id": "c614e812-ac84-4edf-9a3e-01843a62f5d6",
   "metadata": {},
   "outputs": [
    {
     "data": {
      "text/html": [
       "<div>\n",
       "<style scoped>\n",
       "    .dataframe tbody tr th:only-of-type {\n",
       "        vertical-align: middle;\n",
       "    }\n",
       "\n",
       "    .dataframe tbody tr th {\n",
       "        vertical-align: top;\n",
       "    }\n",
       "\n",
       "    .dataframe thead th {\n",
       "        text-align: right;\n",
       "    }\n",
       "</style>\n",
       "<table border=\"1\" class=\"dataframe\">\n",
       "  <thead>\n",
       "    <tr style=\"text-align: right;\">\n",
       "      <th></th>\n",
       "      <th>name</th>\n",
       "      <th>grades</th>\n",
       "    </tr>\n",
       "  </thead>\n",
       "  <tbody>\n",
       "    <tr>\n",
       "      <th>0</th>\n",
       "      <td>Alice</td>\n",
       "      <td>[10, 20]</td>\n",
       "    </tr>\n",
       "    <tr>\n",
       "      <th>1</th>\n",
       "      <td>Blice</td>\n",
       "      <td>[50, 70]</td>\n",
       "    </tr>\n",
       "  </tbody>\n",
       "</table>\n",
       "</div>"
      ],
      "text/plain": [
       "    name    grades\n",
       "0  Alice  [10, 20]\n",
       "1  Blice  [50, 70]"
      ]
     },
     "execution_count": 6,
     "metadata": {},
     "output_type": "execute_result"
    }
   ],
   "source": [
    "data = [{'name':'Alice','grades':[10,20]},\n",
    "        {'name':'Blice','grades':[50,70]}\n",
    "       ]\n",
    "df = pd.DataFrame(data)\n",
    "df"
   ]
  },
  {
   "cell_type": "code",
   "execution_count": 8,
   "id": "298e7062-d4da-4896-a86d-e3ee48889e1b",
   "metadata": {},
   "outputs": [
    {
     "data": {
      "text/plain": [
       "[10, 20]"
      ]
     },
     "execution_count": 8,
     "metadata": {},
     "output_type": "execute_result"
    }
   ],
   "source": [
    "df.loc[0,'grades']"
   ]
  },
  {
   "cell_type": "code",
   "execution_count": 14,
   "id": "b8bcf6f9-c206-47db-aed9-a1a6791cc04e",
   "metadata": {},
   "outputs": [
    {
     "data": {
      "text/plain": [
       "0    [10, 20]\n",
       "1    [50, 70]\n",
       "Name: grades, dtype: object"
      ]
     },
     "execution_count": 14,
     "metadata": {},
     "output_type": "execute_result"
    }
   ],
   "source": [
    "ball = []\n",
    "ball = df['grades'].apply(lambda x: ball + x)\n",
    "ball"
   ]
  },
  {
   "cell_type": "code",
   "execution_count": 13,
   "id": "7213a178-31ea-4dfb-9331-2f268c925910",
   "metadata": {},
   "outputs": [
    {
     "data": {
      "text/plain": [
       "[1, 2, 5, 6, 0, 8, 9]"
      ]
     },
     "execution_count": 13,
     "metadata": {},
     "output_type": "execute_result"
    }
   ],
   "source": [
    "a = [1,2] + [5,6] + [0,8,9] + []\n",
    "a"
   ]
  },
  {
   "cell_type": "code",
   "execution_count": 18,
   "id": "bc56ddd2-e2a6-4f25-af08-e58730b56a6e",
   "metadata": {},
   "outputs": [
    {
     "name": "stdout",
     "output_type": "stream",
     "text": [
      "No match: 1\n",
      "Match: 1W 1\n",
      "Match: 1b 1\n",
      "Match: 1lb 1\n",
      "Match: 1nb 1\n",
      "Match: 1w 1\n",
      "No match: 2\n",
      "Match: 2W 2\n",
      "Match: 2b 2\n",
      "Match: 2lb 2\n",
      "Match: 2n-b 2\n",
      "Match: 2nb 2\n",
      "Match: 2w 2\n",
      "No match: 3\n",
      "Match: 3b 3\n",
      "Match: 3lb 3\n",
      "Match: 3nb 3\n",
      "Match: 3w 3\n",
      "No match: 4\n",
      "Match: 4b 4\n",
      "Match: 4lb 4\n",
      "Match: 4w 4\n",
      "Match: 5nb 5\n",
      "Match: 5w 5\n",
      "No match: 6\n",
      "Match: 7nb 7\n",
      "No match: W\n",
      "No match: •\n"
     ]
    }
   ],
   "source": [
    "import re\n",
    "\n",
    "pattern = r'\\d.*[a-zA-Z]$'\n",
    "\n",
    "strings = ['1',\n",
    " '1W',\n",
    " '1b',\n",
    " '1lb',\n",
    " '1nb',\n",
    " '1w',\n",
    " '2',\n",
    " '2W',\n",
    " '2b',\n",
    " '2lb',\n",
    " '2n-b',\n",
    " '2nb',\n",
    " '2w',\n",
    " '3',\n",
    " '3b',\n",
    " '3lb',\n",
    " '3nb',\n",
    " '3w',\n",
    " '4',\n",
    " '4b',\n",
    " '4lb',\n",
    " '4w',\n",
    " '5nb',\n",
    " '5w',\n",
    " '6',\n",
    " '7nb',\n",
    " 'W',\n",
    " '•'\n",
    "]\n",
    "\n",
    "for s in strings:\n",
    "    if re.match(pattern, s):\n",
    "        print(f'Match: {s}', int(s[0]))\n",
    "    else:\n",
    "        print(f'No match: {s}')\n"
   ]
  },
  {
   "cell_type": "code",
   "execution_count": 2,
   "id": "0c8deb56-60a6-4363-9d30-1984ccc2e0d4",
   "metadata": {},
   "outputs": [
    {
     "name": "stdout",
     "output_type": "stream",
     "text": [
      "      Name   Age         City\n",
      "0    Alice  25.0     New York\n",
      "1      Bob   NaN  Los Angeles\n",
      "2  Charlie  22.0      Chicago\n"
     ]
    }
   ],
   "source": [
    "import pandas as pd\n",
    "\n",
    "# List of dictionaries\n",
    "data = [\n",
    "    {'Name': 'Alice', 'Age': 25, 'City': 'New York'},\n",
    "    {'Name': 'Bob', 'City': 'Los Angeles'},\n",
    "    {'Name': 'Charlie', 'Age': 22, 'City': 'Chicago'}\n",
    "]\n",
    "\n",
    "# Create a DataFrame from the list of dictionaries\n",
    "df = pd.DataFrame(data)\n",
    "\n",
    "# Display the DataFrame\n",
    "print(df)\n"
   ]
  },
  {
   "cell_type": "code",
   "execution_count": null,
   "id": "9fc3fd88-c743-42e4-8bb2-92769f3dcf16",
   "metadata": {},
   "outputs": [],
   "source": []
  }
 ],
 "metadata": {
  "kernelspec": {
   "display_name": "Python 3 (ipykernel)",
   "language": "python",
   "name": "python3"
  },
  "language_info": {
   "codemirror_mode": {
    "name": "ipython",
    "version": 3
   },
   "file_extension": ".py",
   "mimetype": "text/x-python",
   "name": "python",
   "nbconvert_exporter": "python",
   "pygments_lexer": "ipython3",
   "version": "3.11.1"
  },
  "widgets": {
   "application/vnd.jupyter.widget-state+json": {
    "state": {},
    "version_major": 2,
    "version_minor": 0
   }
  }
 },
 "nbformat": 4,
 "nbformat_minor": 5
}
