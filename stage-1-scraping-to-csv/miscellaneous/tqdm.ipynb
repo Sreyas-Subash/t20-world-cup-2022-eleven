{
 "cells": [
  {
   "cell_type": "code",
   "execution_count": 3,
   "id": "989afb52-fa78-4a7f-8d80-503146fd3a87",
   "metadata": {},
   "outputs": [
    {
     "name": "stdout",
     "output_type": "stream",
     "text": [
      "[70, 29, 69, 37, 61, 23, 96, 25, 17, 72, 58, 94, 69, 69, 21, 11, 86, 3, 17, 56, 30, 12, 47, 16, 21, 19, 100, 41, 73, 61]\n"
     ]
    },
    {
     "name": "stderr",
     "output_type": "stream",
     "text": [
      "Processing: 100%|████████████████████████████████████████████████████████████████████| 30/30 [00:15<00:00,  1.99item/s]\n"
     ]
    }
   ],
   "source": [
    "from tqdm import tqdm\n",
    "import time\n",
    "\n",
    "import random\n",
    "\n",
    "random_integers = [random.randint(1, 100) for _ in range(30)]\n",
    "print(random_integers)\n",
    "\n",
    "# A simple loop to demonstrate the progress bar\n",
    "for i in tqdm(random_integers, desc=\"Processing\", unit=\"item\", total=10):\n",
    "    time.sleep(0.5)  # Simulate some work being done\n"
   ]
  },
  {
   "cell_type": "code",
   "execution_count": null,
   "id": "6d33b06d-a0c4-4cd6-a2b3-6d158ac06675",
   "metadata": {},
   "outputs": [],
   "source": []
  },
  {
   "cell_type": "code",
   "execution_count": null,
   "id": "b24eb541-82fa-408a-82df-89f7c800d0f2",
   "metadata": {},
   "outputs": [],
   "source": []
  },
  {
   "cell_type": "code",
   "execution_count": null,
   "id": "fc15dc17-14a6-453b-ad55-2ba4a2f53bde",
   "metadata": {},
   "outputs": [],
   "source": []
  }
 ],
 "metadata": {
  "kernelspec": {
   "display_name": "Python 3 (ipykernel)",
   "language": "python",
   "name": "python3"
  },
  "language_info": {
   "codemirror_mode": {
    "name": "ipython",
    "version": 3
   },
   "file_extension": ".py",
   "mimetype": "text/x-python",
   "name": "python",
   "nbconvert_exporter": "python",
   "pygments_lexer": "ipython3",
   "version": "3.11.1"
  },
  "widgets": {
   "application/vnd.jupyter.widget-state+json": {
    "state": {},
    "version_major": 2,
    "version_minor": 0
   }
  }
 },
 "nbformat": 4,
 "nbformat_minor": 5
}
